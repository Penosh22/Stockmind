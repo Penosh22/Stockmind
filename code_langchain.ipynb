{
 "cells": [
  {
   "cell_type": "code",
   "execution_count": 62,
   "metadata": {},
   "outputs": [],
   "source": [
    "import dotenv\n",
    "from langchain_openai import ChatOpenAI\n",
    "dotenv.load_dotenv()\n",
    "from langchain_community.vectorstores import Chroma\n",
    "from langchain_openai import OpenAIEmbeddings\n",
    "from langchain.schema.messages import HumanMessage, SystemMessage\n",
    "from langchain.chat_models import ChatOpenAI\n",
    "from langchain.prompts import (\n",
    "    PromptTemplate,\n",
    "    SystemMessagePromptTemplate,\n",
    "    HumanMessagePromptTemplate,\n",
    "    ChatPromptTemplate,\n",
    ")\n",
    "from langchain_core.output_parsers import StrOutputParser\n",
    "from langchain.document_loaders.csv_loader import CSVLoader\n",
    "\n",
    "\n",
    "chat_model = ChatOpenAI(model=\"gpt-3.5-turbo-0125\", temperature=0)"
   ]
  },
  {
   "cell_type": "code",
   "execution_count": 63,
   "metadata": {},
   "outputs": [
    {
     "data": {
      "text/plain": [
       "AIMessage(content=\"I'm sorry, but I cannot provide specific stock recommendations. It's important to do thorough research and consider various factors before investing in any stock. I recommend consulting with a financial advisor or doing your own research to determine which stocks may be suitable for your investment goals and risk tolerance.\", response_metadata={'token_usage': {'completion_tokens': 56, 'prompt_tokens': 39, 'total_tokens': 95}, 'model_name': 'gpt-3.5-turbo-0125', 'system_fingerprint': None, 'finish_reason': 'stop', 'logprobs': None}, id='run-60730080-8aa3-4c73-a1a2-29bcded2084c-0')"
      ]
     },
     "execution_count": 63,
     "metadata": {},
     "output_type": "execute_result"
    }
   ],
   "source": [
    "\n",
    "messages = [\n",
    "    SystemMessage(\n",
    "        content=\"\"\"You're an assistant knowledgeable about\n",
    "        stockmarket. Only answer stock market.\"\"\"\n",
    "    ),\n",
    "    HumanMessage(content=\"What are top 10 stocks which can give good returns?\"),\n",
    "]\n",
    "#response = chat_model(messages)\n",
    "#print(response.content)\n",
    "chat_model.invoke(messages)"
   ]
  },
  {
   "cell_type": "code",
   "execution_count": 71,
   "metadata": {},
   "outputs": [],
   "source": [
    "review_template_str = \"\"\"Your job is to use news about stocks and their sentiment to recommend stocks.\n",
    "Use the following context to answer questions. Be as detailed\n",
    "as possible, but don't make up any information that's not\n",
    "from the context. do not give anything that is not in context.If you don't know an answer, say you don't know.\n",
    "\n",
    "{context}\n",
    "\"\"\"\n",
    "\n",
    "review_system_prompt = SystemMessagePromptTemplate(\n",
    "    prompt=PromptTemplate(\n",
    "        input_variables=[\"context\"],\n",
    "        template=review_template_str,\n",
    "    )\n",
    ")\n",
    "\n",
    "review_human_prompt = HumanMessagePromptTemplate(\n",
    "    prompt=PromptTemplate(\n",
    "        input_variables=[\"question\"],\n",
    "        template=\"{question}\",\n",
    "    )\n",
    ")\n",
    "messages = [review_system_prompt, review_human_prompt]\n",
    "\n",
    "review_prompt_template = ChatPromptTemplate(\n",
    "    input_variables=[\"context\", \"question\"],\n",
    "    messages=messages,\n",
    ")\n",
    "\n",
    "chat_model = ChatOpenAI(model=\"gpt-3.5-turbo-0125\", temperature=0)\n",
    "output_parser = StrOutputParser()\n",
    "review_chain = review_prompt_template | chat_model | output_parser"
   ]
  },
  {
   "cell_type": "code",
   "execution_count": 65,
   "metadata": {},
   "outputs": [
    {
     "data": {
      "text/plain": [
       "\"As an AI language model, I don't have real-time data on the stock market. However, I can provide you with some popular and well-known stocks in the Indian stock market that have historically performed well. Please note that the performance of these stocks can vary, and it's essential to do your research or consult with a financial advisor before making any investment decisions. Here are some of the well-known stocks in the Indian stock market:\\n\\n1. Reliance Industries Limited (RIL): RIL is one of the largest conglomerates in India with businesses across various sectors like petrochemicals, refining, retail, and telecommunications.\\n\\n2. Tata Consultancy Services (TCS): TCS is a leading IT services company and a part of the Tata Group. It is one of the largest IT services firms globally.\\n\\n3. HDFC Bank: HDFC Bank is one of the largest private sector banks in India known for its strong financial performance and customer service.\\n\\n4. Infosys: Infosys is another prominent IT services company in India known for its software development and outsourcing services.\\n\\n5. State Bank of India (SBI): SBI is the largest public sector bank in India and plays a crucial role in the country's banking sector.\\n\\n6. Hindustan Unilever Limited (HUL): HUL is a leading consumer goods company in India with a diverse portfolio of products in categories like personal care, home care, and foods.\\n\\n7. Bajaj Finance: Bajaj Finance is a non-banking financial company (NBFC) known for its consumer finance, SME lending, and commercial lending services.\\n\\nThese are just a few examples, and there are many other stocks listed on the Indian stock exchanges that investors consider for their portfolios. It's essential to conduct thorough research and consider factors like financial performance, industry trends, and market conditions before investing in any stock.\""
      ]
     },
     "execution_count": 65,
     "metadata": {},
     "output_type": "execute_result"
    }
   ],
   "source": [
    "from langchain.chat_models import ChatOpenAI\n",
    "\n",
    "context = \"information on stocks\"\n",
    "question = \"list of best stocks in Indian stock market\"\n",
    "\n",
    "review_chain.invoke({\"context\": context, \"question\": question})"
   ]
  },
  {
   "cell_type": "code",
   "execution_count": 73,
   "metadata": {},
   "outputs": [],
   "source": [
    "\n",
    "REVIEWS_CSV_PATH = \"E:/Data Science/Capstone/news.csv\"\n",
    "REVIEWS_CHROMA_PATH = \"E:/Data Science/Capstone/chroma_data\"\n",
    "\n",
    "\n",
    "loader = CSVLoader(file_path=REVIEWS_CSV_PATH, source_column=\"text\")\n",
    "reviews = loader.load()\n",
    "\n",
    "reviews_vector_db = Chroma.from_documents(\n",
    "    reviews, OpenAIEmbeddings(), persist_directory=REVIEWS_CHROMA_PATH\n",
    ")"
   ]
  },
  {
   "cell_type": "code",
   "execution_count": 67,
   "metadata": {},
   "outputs": [
    {
     "data": {
      "text/plain": [
       "'text: The Indian stock market has shown robust growth, rising 1.5% in the past week and an impressive 46% over the last 12 months, with earnings expected to grow by 16% annually. In this flourishing environment, stocks with high insider ownership can be particularly appealing as they often indicate a strong alignment between company management and shareholder interests.'"
      ]
     },
     "execution_count": 67,
     "metadata": {},
     "output_type": "execute_result"
    }
   ],
   "source": [
    "\n",
    "\n",
    "reviews_vector_db = Chroma(\n",
    "    persist_directory=REVIEWS_CHROMA_PATH,\n",
    "    embedding_function=OpenAIEmbeddings(),\n",
    ")\n",
    "question = \"\"\"give me a stock which has high sentiment\"\"\"\n",
    "relevant_docs = reviews_vector_db.similarity_search(question, k=3)\n",
    "\n",
    "relevant_docs[0].page_content\n",
    "relevant_docs[1].page_content\n",
    "relevant_docs[2].page_content"
   ]
  },
  {
   "cell_type": "code",
   "execution_count": 74,
   "metadata": {},
   "outputs": [
    {
     "data": {
      "text/plain": [
       "'One stock that has been identified as having a huge upside potential with relatively low risk in the Indian stock market is Infosys Limited. Infosys is a well-established multinational corporation that provides information technology, consulting, and outsourcing services. The company has a strong track record of consistent growth and profitability, making it a relatively low-risk investment option.\\n\\nInfosys has been performing well in recent years, with a strong focus on digital transformation services and a solid client base. The company has also been investing in emerging technologies such as artificial intelligence, cloud computing, and cybersecurity, which are expected to drive future growth.\\n\\nAnalysts have a positive outlook on Infosys, with many recommending it as a buy due to its strong fundamentals and growth potential. The stock is considered to have a significant upside potential, making it an attractive investment option for investors looking for growth opportunities with relatively low risk in the Indian stock market.'"
      ]
     },
     "execution_count": 74,
     "metadata": {},
     "output_type": "execute_result"
    }
   ],
   "source": [
    "question = \"\"\"give me stock with huge upside potentential and low risk from indian stock market\"\"\"\n",
    "\n",
    "# Assuming the prompt expects a key 'question'\n",
    "review_chain.invoke({\"context\": context, \"question\": question})\n"
   ]
  }
 ],
 "metadata": {
  "kernelspec": {
   "display_name": "capstone",
   "language": "python",
   "name": "python3"
  },
  "language_info": {
   "codemirror_mode": {
    "name": "ipython",
    "version": 3
   },
   "file_extension": ".py",
   "mimetype": "text/x-python",
   "name": "python",
   "nbconvert_exporter": "python",
   "pygments_lexer": "ipython3",
   "version": "3.10.14"
  }
 },
 "nbformat": 4,
 "nbformat_minor": 2
}
